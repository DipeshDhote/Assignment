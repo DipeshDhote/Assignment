{
  "nbformat": 4,
  "nbformat_minor": 0,
  "metadata": {
    "colab": {
      "provenance": [],
      "authorship_tag": "ABX9TyNL21U4TVSmIs6cyt3Gqoxl",
      "include_colab_link": true
    },
    "kernelspec": {
      "name": "python3",
      "display_name": "Python 3"
    },
    "language_info": {
      "name": "python"
    }
  },
  "cells": [
    {
      "cell_type": "markdown",
      "metadata": {
        "id": "view-in-github",
        "colab_type": "text"
      },
      "source": [
        "<a href=\"https://colab.research.google.com/github/DipeshDhote/Assignment/blob/main/Assignment_7.ipynb\" target=\"_parent\"><img src=\"https://colab.research.google.com/assets/colab-badge.svg\" alt=\"Open In Colab\"/></a>"
      ]
    },
    {
      "cell_type": "markdown",
      "source": [
        "Q.1. Create two int type variables, apply addition, subtraction, division and multiplications\n",
        "and store the results in variables. Then print the data in the following format by calling the\n",
        "variables:\n",
        "\n",
        "First variable is __ & second variable is __.\n",
        "\n",
        "Addition: __ + __ = __\n",
        "\n",
        "Subtraction: __ - __ = __\n",
        "\n",
        "Multiplication: __ * __ = __\n",
        "\n",
        "Division: __ / __ = __\n"
      ],
      "metadata": {
        "id": "KyIBaO3EQ9PY"
      }
    },
    {
      "cell_type": "code",
      "source": [
        "# Ans first variable is \"a\" and second is \"b\".\n",
        "a =  5\n",
        "b =  8\n",
        "\n",
        "add = a + b\n",
        "sub = a-b\n",
        "mul = a*b\n",
        "div = a/b\n",
        "print( add )\n",
        "print( sub )\n",
        "print( mul )\n",
        "print( div )\n"
      ],
      "metadata": {
        "colab": {
          "base_uri": "https://localhost:8080/"
        },
        "id": "1_mKmAsBRyXt",
        "outputId": "b494adaf-1984-4c6c-e978-d668b0c54941"
      },
      "execution_count": null,
      "outputs": [
        {
          "output_type": "stream",
          "name": "stdout",
          "text": [
            "13\n",
            "-3\n",
            "40\n",
            "0.625\n"
          ]
        }
      ]
    },
    {
      "cell_type": "markdown",
      "source": [
        "Q.2. What is the difference between the following operators:\n",
        "\n",
        "(i) ‘/’ & ‘//’\n",
        "\n",
        "(ii) ‘**’ & ‘^’\n",
        "\n",
        "**Ans -** All different operators used in python. These operators are mathematical operators and both have different uses.\n",
        "\n",
        " *  \"/\" this is division operator in this left hand operand divided by right hand operand.\n",
        "\n",
        " Example- 5/2 = 2.5\n",
        " *   \"//\" this is a Floor division that results into whole number adjusted to the left in the number line.\n",
        "\n",
        "  Example- 5//2 = 2\n",
        "         \n",
        " * \"**\" this is  Exponent operator in this Left operand is raised to the power of right\n",
        "\n",
        " Example - 5**2 = 25\n",
        "\n",
        " * \"^\" XOR operator The \"^\" operator compares each bit and set it to 1 if only one is 1, otherwise (if both are 1 or both are 0) it is set to 0:\n",
        "\n",
        " Example - 5^2 = 7"
      ],
      "metadata": {
        "id": "TGPUpg1BRD0Y"
      }
    },
    {
      "cell_type": "markdown",
      "source": [
        "Q.3. List the logical operators.\n",
        "\n",
        "**Ans-** There are three logical operators and,or and not.\n",
        "  \n",
        "  **and -** Returns True if both statements are true.\n",
        "  \n",
        "  **or -** Returns True if one of the statements is true.\n",
        "  \n",
        "  **not -** Returns True if one of the statements is true."
      ],
      "metadata": {
        "id": "FIQNNxDIRECy"
      }
    },
    {
      "cell_type": "markdown",
      "source": [
        "Q.4. Explain right shift operator and left shift operator with examples.\n",
        "\n",
        "**Ans -**\n",
        "\n",
        "\">>\" Right shift -Shift right by pushing copies of the leftmost bit in from the left, and let the rightmost bits fall off\t.\n",
        "\n",
        "\"<<\" Left Shift - Shift left by pushing zeros in from the right and let the leftmost bits fall off."
      ],
      "metadata": {
        "id": "uiXIKy-uREFb"
      }
    },
    {
      "cell_type": "code",
      "source": [
        "# Example Right Shift\n",
        "# 5>>2 = 1\n",
        "5>>2"
      ],
      "metadata": {
        "colab": {
          "base_uri": "https://localhost:8080/"
        },
        "id": "qD4OX9szMudb",
        "outputId": "5e1edcda-df40-4501-f08c-e362457ae73f"
      },
      "execution_count": 7,
      "outputs": [
        {
          "output_type": "execute_result",
          "data": {
            "text/plain": [
              "1"
            ]
          },
          "metadata": {},
          "execution_count": 7
        }
      ]
    },
    {
      "cell_type": "code",
      "source": [
        "# Left shift\n",
        "# 5<<2 =20\n",
        "5<<2"
      ],
      "metadata": {
        "colab": {
          "base_uri": "https://localhost:8080/"
        },
        "id": "460dfZd3NXWw",
        "outputId": "e9a25c21-7678-4905-f78a-8cffeaab4c4e"
      },
      "execution_count": 8,
      "outputs": [
        {
          "output_type": "execute_result",
          "data": {
            "text/plain": [
              "20"
            ]
          },
          "metadata": {},
          "execution_count": 8
        }
      ]
    },
    {
      "cell_type": "markdown",
      "source": [
        "Q.5. Create a list containing int type data of length 15. Then write a code to check if 10 is\n",
        "present in the list or not."
      ],
      "metadata": {
        "id": "MoBbZbvdREIU"
      }
    },
    {
      "cell_type": "code",
      "source": [
        "# Ans -\n",
        "l = [1,2,3,4,5,6,7,8,9,10,11,12,13,14,15]\n",
        "print(10 in l)"
      ],
      "metadata": {
        "colab": {
          "base_uri": "https://localhost:8080/"
        },
        "id": "81IDXAq-NrQu",
        "outputId": "13377f7f-649d-49b9-d890-fefaf8f72cb8"
      },
      "execution_count": 19,
      "outputs": [
        {
          "output_type": "stream",
          "name": "stdout",
          "text": [
            "True\n"
          ]
        }
      ]
    }
  ]
}