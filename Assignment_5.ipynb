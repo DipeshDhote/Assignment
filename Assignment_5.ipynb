{
  "nbformat": 4,
  "nbformat_minor": 0,
  "metadata": {
    "colab": {
      "provenance": [],
      "authorship_tag": "ABX9TyNaGZRYZ5dGJkRLHPgtjirY",
      "include_colab_link": true
    },
    "kernelspec": {
      "name": "python3",
      "display_name": "Python 3"
    },
    "language_info": {
      "name": "python"
    }
  },
  "cells": [
    {
      "cell_type": "markdown",
      "metadata": {
        "id": "view-in-github",
        "colab_type": "text"
      },
      "source": [
        "<a href=\"https://colab.research.google.com/github/DipeshDhote/Assignment/blob/main/Assignment_5.ipynb\" target=\"_parent\"><img src=\"https://colab.research.google.com/assets/colab-badge.svg\" alt=\"Open In Colab\"/></a>"
      ]
    },
    {
      "cell_type": "markdown",
      "source": [
        "**1.** What does an empty dictionary&#39;s code look like?"
      ],
      "metadata": {
        "id": "ov6CPyW_r_Yf"
      }
    },
    {
      "cell_type": "code",
      "source": [
        "# Ans -\n",
        "dic = {}\n",
        "print(type(dic))"
      ],
      "metadata": {
        "colab": {
          "base_uri": "https://localhost:8080/"
        },
        "id": "1ysj4zPGsB9e",
        "outputId": "73702654-42f3-461f-9821-09d497572b43"
      },
      "execution_count": 5,
      "outputs": [
        {
          "output_type": "stream",
          "name": "stdout",
          "text": [
            "<class 'dict'>\n"
          ]
        }
      ]
    },
    {
      "cell_type": "markdown",
      "source": [
        "**2.** What is the value of a dictionary value with the key &#39;foo&#39; and the value 42?"
      ],
      "metadata": {
        "id": "7ETSG2n4sBNO"
      }
    },
    {
      "cell_type": "code",
      "source": [
        "# Ans\n",
        "dic = {'foo':42}\n",
        "print(dic)"
      ],
      "metadata": {
        "colab": {
          "base_uri": "https://localhost:8080/"
        },
        "id": "U8s986MpsqG7",
        "outputId": "9f8ef6eb-0083-4608-9b08-53200e4d6ab1"
      },
      "execution_count": 3,
      "outputs": [
        {
          "output_type": "stream",
          "name": "stdout",
          "text": [
            "{'foo': 42}\n"
          ]
        }
      ]
    },
    {
      "cell_type": "markdown",
      "source": [
        "**3.** What is the most significant distinction between a dictionary and a list?\n",
        "\n",
        "**Ans -** The most significant distinction between a dictionary and a list is that list are orderd and dictionary are unorderd."
      ],
      "metadata": {
        "id": "c6L5malGsDD9"
      }
    },
    {
      "cell_type": "markdown",
      "source": [
        "**4.** What happens if you try to access spam[&#39;foo&#39;] if spam is {&#39;bar&#39;: 100}?\n"
      ],
      "metadata": {
        "id": "yyb1OjtJt4P_"
      }
    },
    {
      "cell_type": "code",
      "source": [
        "# Ans -This will give us key error\n",
        "spam = {'bar':100}\n",
        "spam['foo']\n"
      ],
      "metadata": {
        "colab": {
          "base_uri": "https://localhost:8080/",
          "height": 205
        },
        "id": "xKaE2wubuL_w",
        "outputId": "a4b2d405-8248-420f-9166-5feafbb494b9"
      },
      "execution_count": 6,
      "outputs": [
        {
          "output_type": "error",
          "ename": "KeyError",
          "evalue": "ignored",
          "traceback": [
            "\u001b[0;31m---------------------------------------------------------------------------\u001b[0m",
            "\u001b[0;31mKeyError\u001b[0m                                  Traceback (most recent call last)",
            "\u001b[0;32m<ipython-input-6-e56fa07bb50c>\u001b[0m in \u001b[0;36m<cell line: 3>\u001b[0;34m()\u001b[0m\n\u001b[1;32m      1\u001b[0m \u001b[0;31m# Ans -This will give us key error\u001b[0m\u001b[0;34m\u001b[0m\u001b[0;34m\u001b[0m\u001b[0m\n\u001b[1;32m      2\u001b[0m \u001b[0mspam\u001b[0m \u001b[0;34m=\u001b[0m \u001b[0;34m{\u001b[0m\u001b[0;34m'bar'\u001b[0m\u001b[0;34m:\u001b[0m\u001b[0;36m100\u001b[0m\u001b[0;34m}\u001b[0m\u001b[0;34m\u001b[0m\u001b[0;34m\u001b[0m\u001b[0m\n\u001b[0;32m----> 3\u001b[0;31m \u001b[0mspam\u001b[0m\u001b[0;34m[\u001b[0m\u001b[0;34m'foo'\u001b[0m\u001b[0;34m]\u001b[0m\u001b[0;34m\u001b[0m\u001b[0;34m\u001b[0m\u001b[0m\n\u001b[0m",
            "\u001b[0;31mKeyError\u001b[0m: 'foo'"
          ]
        }
      ]
    },
    {
      "cell_type": "markdown",
      "source": [
        "**5.** If a dictionary is stored in spam, what is the difference between the expressions &#39;cat&#39; in spam and\n",
        "&#39;cat&#39; in spam.keys()?"
      ],
      "metadata": {
        "id": "XpCJLvKIuVNC"
      }
    },
    {
      "cell_type": "code",
      "source": [
        "#Ans - There is no difference\n",
        "\n",
        "# if 'cat'in spam\n",
        "spam ={'cat':100}\n",
        "'cat' in spam\n",
        "\n",
        "#if 'cat in spam.keys()\n",
        "'cat' in spam.keys()"
      ],
      "metadata": {
        "colab": {
          "base_uri": "https://localhost:8080/"
        },
        "id": "LoeViEijuyTO",
        "outputId": "473905f3-8d69-4d42-d1a9-b17f14438c8a"
      },
      "execution_count": 7,
      "outputs": [
        {
          "output_type": "execute_result",
          "data": {
            "text/plain": [
              "True"
            ]
          },
          "metadata": {},
          "execution_count": 7
        }
      ]
    },
    {
      "cell_type": "markdown",
      "source": [
        "**6.** If a dictionary is stored in spam, what is the difference between the expressions &#39;cat&#39; in spam and\n",
        "&#39;cat&#39; in spam.values()?\n",
        "\n",
        "**Ans-** 'cat' in spam checks whether'cat' exists as a key in spam. 'cat' in spam.values() checks whether 'cat' is a value in spam.\n"
      ],
      "metadata": {
        "id": "BPNVION-vRe0"
      }
    },
    {
      "cell_type": "markdown",
      "source": [
        "**7.** What is a shortcut for the following code?\n",
        "\n",
        "if &#39;color&#39; not in spam:\n",
        "\n",
        "spam[&#39;color&#39;] = &#39;black&#39;"
      ],
      "metadata": {
        "id": "lDb-iMo0vogR"
      }
    },
    {
      "cell_type": "code",
      "source": [
        "#Ans\n",
        "spam.setdefault('color','black')\n"
      ],
      "metadata": {
        "id": "-fEPEbLcwmvy"
      },
      "execution_count": null,
      "outputs": []
    },
    {
      "cell_type": "markdown",
      "source": [
        "**8.** How do you &quot;pretty print&quot; dictionary values using which module and function?\n",
        "\n",
        "**Ans -** The module is pprint and The functions are pprint.pprint() and pprint.pformat()."
      ],
      "metadata": {
        "id": "KaiOIi3lvrMC"
      }
    }
  ]
}