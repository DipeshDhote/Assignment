{
  "nbformat": 4,
  "nbformat_minor": 0,
  "metadata": {
    "colab": {
      "provenance": [],
      "authorship_tag": "ABX9TyPedjtw64B90Z4noiHh1HX6",
      "include_colab_link": true
    },
    "kernelspec": {
      "name": "python3",
      "display_name": "Python 3"
    },
    "language_info": {
      "name": "python"
    }
  },
  "cells": [
    {
      "cell_type": "markdown",
      "metadata": {
        "id": "view-in-github",
        "colab_type": "text"
      },
      "source": [
        "<a href=\"https://colab.research.google.com/github/DipeshDhote/Assignment/blob/main/Assignment_2.ipynb\" target=\"_parent\"><img src=\"https://colab.research.google.com/assets/colab-badge.svg\" alt=\"Open In Colab\"/></a>"
      ]
    },
    {
      "cell_type": "markdown",
      "source": [
        "\n",
        "\n",
        "\n",
        "\n",
        "\n",
        " 1.What are the two values of the Boolean data type? How do you write them?\n",
        "\n",
        "Ans – The two values of Boolean data type are True and False. If the particular condition is satisfied we will get output as True and if the condition is not satisfied we can get output as False. \n",
        "\n",
        "\n",
        "\n"
      ],
      "metadata": {
        "id": "VPie2JZAsNyN"
      }
    },
    {
      "cell_type": "markdown",
      "source": [
        "2.What are the three different types of Boolean operators?\n",
        " \n",
        "Ans – \n",
        " 1.\tAnd\n",
        " 2.\tOr\n",
        " 3.\tNot\n"
      ],
      "metadata": {
        "id": "zcyf6lWox_iW"
      }
    },
    {
      "cell_type": "markdown",
      "source": [
        "3.Make a list of each Boolean operator's truth tables (i.e. every possible combination of Boolean values for the operator and what it evaluate ).\n",
        "Ans – \n",
        "True and True is True.\n",
        "True and False is False.\n",
        "\n",
        "False and True is False.\n",
        "False and False is False.\n",
        "\n",
        "True or True is True.\n",
        "True or False is True.\n",
        "\n",
        "False or True is True.\n",
        "False or False is False.\n",
        "\n",
        "not True is False.\n",
        "not False is True.\n"
      ],
      "metadata": {
        "id": "v-gG_khfsOPO"
      }
    },
    {
      "cell_type": "markdown",
      "source": [
        "4.What are the values of the following expressions?"
      ],
      "metadata": {
        "id": "ZYiUOMYzsOSf"
      }
    },
    {
      "cell_type": "code",
      "source": [
        "print((5 > 4) and (3 == 5))    \n",
        "print(not (5 > 4))                 \n",
        "print((5 > 4) or (3 == 5) )     \n",
        "print(not ((5 > 4) or (3 == 5)))   \n",
        "print((True and True) and (True == False))   \n",
        "print((not False) or (not True))   \n"
      ],
      "metadata": {
        "colab": {
          "base_uri": "https://localhost:8080/"
        },
        "id": "p6-AcjDizEBB",
        "outputId": "58f12a91-aabf-4be2-b3e0-0ed93a89328b"
      },
      "execution_count": 2,
      "outputs": [
        {
          "output_type": "stream",
          "name": "stdout",
          "text": [
            "False\n",
            "False\n",
            "True\n",
            "False\n",
            "False\n",
            "True\n"
          ]
        }
      ]
    },
    {
      "cell_type": "markdown",
      "source": [
        "5.What are the six comparison operators?\n",
        " \n",
        "Ans – Six types of comparison operator are -\n",
        "1. (“>”) Greater Than\n",
        "2. (“<”) Less Than\n",
        "3. (“==”) Equal To\n",
        "4. (“!=”) Not Equal To\n",
        "5. (“>=”) Greater Than Equal To\n",
        "6. (“<=”) Less Than Equal To\n"
      ],
      "metadata": {
        "id": "4kyptcrSsOVm"
      }
    },
    {
      "cell_type": "markdown",
      "source": [
        "6.How do you tell the difference between the equal to and assignment operators?Describe a condition and when you would use one.\n",
        "\n",
        "Ans – In a programming “=” is a assignment operator which means  that it assigns a value to a variable.\n",
        "\n",
        "On the other hand “==” is a equal to  operator that compares two values and return Boolean value.\n"
      ],
      "metadata": {
        "id": "xdBR9CqusOYg"
      }
    },
    {
      "cell_type": "markdown",
      "source": [
        "7.Identify the three blocks in this code:\n"
      ],
      "metadata": {
        "id": "tBkwPdiisObm"
      }
    },
    {
      "cell_type": "code",
      "source": [
        "# Ans -\n",
        "\n",
        "spam = 0\n",
        "if spam == 10:\n",
        "  print('eggs')\n",
        "# 1st Block\n",
        "if spam > 5:\n",
        "  print('bacon')\n",
        "# 2nd Block\n",
        "else:\n",
        "  print('ham')\n",
        "  print('spam')\n",
        "  print('spam')\n",
        "# 3rd Block"
      ],
      "metadata": {
        "id": "uWjr1Z951LHe"
      },
      "execution_count": null,
      "outputs": []
    },
    {
      "cell_type": "markdown",
      "source": [
        "8.Write code that prints Hello if 1 is stored in spam, prints Howdy if 2 is stored in spam, and prints Greetings! if anything else is stored in spam.\n"
      ],
      "metadata": {
        "id": "ToQeHH1ksOex"
      }
    },
    {
      "cell_type": "code",
      "source": [
        "spam = int(input(\"Enter the number 1 or 2 :\"))\n",
        "if spam == 1:\n",
        "  print(\"Hello\")\n",
        "elif spam == 2:\n",
        "  print(\"Howdy\")\n",
        "else:\n",
        "  print(\"Greetings!\")\n"
      ],
      "metadata": {
        "colab": {
          "base_uri": "https://localhost:8080/"
        },
        "id": "ekJ7l6Ll2Jj2",
        "outputId": "34043210-462f-40bd-b295-d3c573bf109b"
      },
      "execution_count": 8,
      "outputs": [
        {
          "output_type": "stream",
          "name": "stdout",
          "text": [
            "Enter the number 1 or 2 :1\n",
            "Hello\n"
          ]
        }
      ]
    },
    {
      "cell_type": "markdown",
      "source": [
        "9.If your programme is stuck in an endless loop, what keys you’ll press?\n",
        "\n",
        "Ans – I will press ” ctrl + c”.\n"
      ],
      "metadata": {
        "id": "BdPwulUIsOh8"
      }
    },
    {
      "cell_type": "markdown",
      "source": [
        "10.How can you tell the difference between break and continue?\n",
        "\n",
        "Ans –\n",
        "Both break and continue are jump statements. The  difference between” break “and “continue” is that-\n",
        "\n",
        "Break – Break  statement is used to terminate the loop  whenever the particular condition is satisfied.\n",
        "\n",
        "Continue – Continue terminate the current iteration and resumes the control to the next iteration of the loop.\n"
      ],
      "metadata": {
        "id": "SsQfCB7MsOlU"
      }
    },
    {
      "cell_type": "markdown",
      "source": [
        "11.In a for loop, what is the difference between range(10), range(0, 10), and range(0, 10, 1)?\n",
        "\n",
        "Ans – There will be no difference in the output . these  are three different types of format we can use in the for loop.\n",
        "\n",
        "range(10) – in thus format we give end condition.\n",
        "\n",
        "range(0,10) – in this format we give start and end condition.\n",
        "\n",
        "range(0,10,1) – in this format we give start ,end and step size.\n"
      ],
      "metadata": {
        "id": "tNMV-1HM3uXF"
      }
    },
    {
      "cell_type": "markdown",
      "source": [
        "12.Write a short program that prints the numbers 1 to 10 using a for loop. Then write an equivalent program that prints the numbers 1 to 10 using a while loop."
      ],
      "metadata": {
        "id": "wixDRKaJ3utT"
      }
    },
    {
      "cell_type": "code",
      "source": [
        "# Using For loop - \n",
        "for i in range(1,11):\n",
        "  print(i)\n",
        "# Using While loop –\n",
        "i = 1\n",
        "while i <= 10:\n",
        "  print(i)\n",
        "  i +=1\n"
      ],
      "metadata": {
        "id": "r5D6gAIV45Ug"
      },
      "execution_count": null,
      "outputs": []
    },
    {
      "cell_type": "markdown",
      "source": [
        "13.If you had a function named bacon() inside a module named spam, how would you call it after importing spam?\n",
        "\n",
        "Ans – we can be called with spam.bacon().\n"
      ],
      "metadata": {
        "id": "8Oa00APs5qeD"
      }
    }
  ]
}