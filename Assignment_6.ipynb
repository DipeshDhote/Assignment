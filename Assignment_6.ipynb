{
  "nbformat": 4,
  "nbformat_minor": 0,
  "metadata": {
    "colab": {
      "provenance": [],
      "authorship_tag": "ABX9TyMdsyGWf1X+/zVXgmxQG+mk",
      "include_colab_link": true
    },
    "kernelspec": {
      "name": "python3",
      "display_name": "Python 3"
    },
    "language_info": {
      "name": "python"
    }
  },
  "cells": [
    {
      "cell_type": "markdown",
      "metadata": {
        "id": "view-in-github",
        "colab_type": "text"
      },
      "source": [
        "<a href=\"https://colab.research.google.com/github/DipeshDhote/Assignment/blob/main/Assignment_6.ipynb\" target=\"_parent\"><img src=\"https://colab.research.google.com/assets/colab-badge.svg\" alt=\"Open In Colab\"/></a>"
      ]
    },
    {
      "cell_type": "markdown",
      "source": [
        "Q.1. What are keywords in python? Using the keyword library, print all the python keywords.\n",
        "\n",
        "**Ans-** Python keywords are special reserved words that have specific meanings and purposes and can’t be used for anything but those specific purposes. These keywords are always available—you’ll never have to import them into your code.\n",
        "\n"
      ],
      "metadata": {
        "id": "vFvXrxfi3LqR"
      }
    },
    {
      "cell_type": "code",
      "source": [
        "import keyword\n",
        "print(keyword.kwlist)"
      ],
      "metadata": {
        "colab": {
          "base_uri": "https://localhost:8080/"
        },
        "id": "nVQ-ZStV0dwo",
        "outputId": "758d4a90-6889-4a4c-cef6-298f2d2157ee"
      },
      "execution_count": null,
      "outputs": [
        {
          "output_type": "stream",
          "name": "stdout",
          "text": [
            "['False', 'None', 'True', 'and', 'as', 'assert', 'async', 'await', 'break', 'class', 'continue', 'def', 'del', 'elif', 'else', 'except', 'finally', 'for', 'from', 'global', 'if', 'import', 'in', 'is', 'lambda', 'nonlocal', 'not', 'or', 'pass', 'raise', 'return', 'try', 'while', 'with', 'yield']\n"
          ]
        }
      ]
    },
    {
      "cell_type": "markdown",
      "source": [
        "Q.2. What are the rules to create variables in python?\n",
        "\n",
        "**Ans-**\n",
        "\n",
        "1.The first character of the variable can be an alphabet or (_) underscore.\n",
        "\n",
        "2.Special characters (@, #, %, ^, &, *) should not be used in variable name.\n",
        "\n",
        "3.Variable names are case sensitive. For example - age and AGE are two different variables.\n",
        "\n",
        "4.Reserve words cannot be declared as variables."
      ],
      "metadata": {
        "id": "uXO0m7ojN1cx"
      }
    },
    {
      "cell_type": "markdown",
      "source": [
        "Q.3. What are the standards and conventions followed for the nomenclature of variables in\n",
        "python to improve code readability and maintainability?\n",
        "\n",
        "**Ana-**\n",
        "\n",
        "1.Instance variable names should follow the lowercase convention.\n",
        "\n",
        "2.Have the underscore as a separator while naming a multi-word instance variable.\n",
        "\n",
        "3.Begin a non-public instance variable name with a single underscore.\n",
        "\n",
        "4.Use two consecutive underscores at the beginning of an instance variable."
      ],
      "metadata": {
        "id": "NDWOguMLN1fi"
      }
    },
    {
      "cell_type": "markdown",
      "source": [
        "Q.4. What will happen if a keyword is used as a variable name?\n",
        "\n",
        "**Ans-** We get syntax error. We cannot use a keyword as a variable name, function name, or any other identifier."
      ],
      "metadata": {
        "id": "PPrEuq1XN1ik"
      }
    },
    {
      "cell_type": "code",
      "source": [
        "as = 1234"
      ],
      "metadata": {
        "colab": {
          "base_uri": "https://localhost:8080/",
          "height": 134
        },
        "id": "oy9wKTOg2W5L",
        "outputId": "fb13f7c2-35a2-4606-c968-2fe6f34aab56"
      },
      "execution_count": null,
      "outputs": [
        {
          "output_type": "error",
          "ename": "SyntaxError",
          "evalue": "ignored",
          "traceback": [
            "\u001b[0;36m  File \u001b[0;32m\"<ipython-input-34-b9a5106fd521>\"\u001b[0;36m, line \u001b[0;32m1\u001b[0m\n\u001b[0;31m    as = 1234\u001b[0m\n\u001b[0m    ^\u001b[0m\n\u001b[0;31mSyntaxError\u001b[0m\u001b[0;31m:\u001b[0m invalid syntax\n"
          ]
        }
      ]
    },
    {
      "cell_type": "markdown",
      "source": [
        "Q.5. For what purpose def keyword is used?\n",
        "\n",
        "**Ans-** The def keyword is used to create or definea function."
      ],
      "metadata": {
        "id": "h3j5pIXmN1mI"
      }
    },
    {
      "cell_type": "markdown",
      "source": [
        "Q.6. What is the operation of this special character ‘\\’?\n",
        "\n",
        "**Ans-**\n",
        "It is used in representing certain whitespace characters: \"\\t\" is a tab, \"\\n\" is a newline, and \"\\r\" is a carriage return."
      ],
      "metadata": {
        "id": "o_12gon5N1oa"
      }
    },
    {
      "cell_type": "markdown",
      "source": [
        "Q.7. Give an example of the following conditions:\n",
        "\n",
        "(i) Homogeneous list\n",
        "\n",
        "(ii) Heterogeneous set\n",
        "\n",
        "(iii) Homogeneous tuple"
      ],
      "metadata": {
        "id": "D_KjQkcdN1sR"
      }
    },
    {
      "cell_type": "code",
      "source": [
        "# Ans Homogeneous List\n",
        "l = [1,2,3,4,5]\n",
        "\n",
        "# Heterogeneous set\n",
        "s= {\"india\",\"uk\",\"usa\",1.0,2.0,True,False}\n",
        "\n",
        "# Homogeneous tuple\n",
        "t =(1,2,3,4,5)\n"
      ],
      "metadata": {
        "id": "MYROr_GOFHka"
      },
      "execution_count": 8,
      "outputs": []
    },
    {
      "cell_type": "markdown",
      "source": [
        "Q.8. Explain the mutable and immutable data types with proper explanation & examples.\n",
        "\n",
        "**Ans-**\n",
        "**Mutable -** mutable data types are those that can be modified or changed after it created.\n",
        "\n",
        "**Example -** List,Set,Disctionary.\n",
        "\n",
        "**Immutable-**Immutable data types are those that can not be modified or changed after it created.\n",
        "\n",
        "**Example-** String,Tuple.\n"
      ],
      "metadata": {
        "id": "iY9UG-EmOY9K"
      }
    },
    {
      "cell_type": "markdown",
      "source": [
        "Q.9. Write a code to create the given structure using only for loop."
      ],
      "metadata": {
        "id": "Mjau0AhA4I-H"
      }
    },
    {
      "cell_type": "code",
      "source": [
        "# Ans -\n",
        "\"\"\"\n",
        "    *\n",
        "   ***\n",
        "  *****\n",
        " *******\n",
        "*********\n",
        "\"\"\"\n",
        "i = 0\n",
        "n= 5\n",
        "while i < n:\n",
        "\n",
        "  j=0\n",
        "  while j <n-i-1:\n",
        "    print(\" \",end=\" \")\n",
        "    j = j+1\n",
        "  j=0\n",
        "  while j<2*i+1:\n",
        "      print(\"*\",end=\" \")\n",
        "      j= j+1\n",
        "  j=0\n",
        "  while j <n-i-1:\n",
        "    print(\" \",end=\"\")\n",
        "    j=j+1\n",
        "  i = i+1\n",
        "  print(\" \")"
      ],
      "metadata": {
        "colab": {
          "base_uri": "https://localhost:8080/"
        },
        "id": "k-BUOABk4Jig",
        "outputId": "771b2899-ca5d-41ec-a386-b7f6b8f74a23"
      },
      "execution_count": 8,
      "outputs": [
        {
          "output_type": "stream",
          "name": "stdout",
          "text": [
            "        *      \n",
            "      * * *     \n",
            "    * * * * *    \n",
            "  * * * * * * *   \n",
            "* * * * * * * * *  \n"
          ]
        }
      ]
    },
    {
      "cell_type": "markdown",
      "source": [
        "Q.10. Write a code to create the given structure using while loop.\n"
      ],
      "metadata": {
        "id": "GS8ncQeC3z8b"
      }
    },
    {
      "cell_type": "code",
      "source": [
        "# Ans -\n",
        "\"\"\"\n",
        "|||||||||\n",
        " |||||||\n",
        "  |||||\n",
        "   |||\n",
        "    |\n",
        "\"\"\"\n",
        "i = 5\n",
        "n= 0\n",
        "while i>n:\n",
        "\n",
        "  j=4\n",
        "  while j != i-n-1:\n",
        "    print(\" \",end=\" \")\n",
        "    j = j-1\n",
        "  j=0\n",
        "  while j<2*i-1:\n",
        "      print(\"|\",end=\" \")\n",
        "      j= j+1\n",
        "  j=4\n",
        "  while j !=i-n-1 :\n",
        "    print(\" \",end=\"\")\n",
        "    j=j-1\n",
        "\n",
        "  i = i-1\n",
        "  print(\" \")\n",
        "\n"
      ],
      "metadata": {
        "id": "3gS9oT4p7fam",
        "colab": {
          "base_uri": "https://localhost:8080/"
        },
        "outputId": "a85f06a6-cacf-4093-8740-d21b81a3b5e6"
      },
      "execution_count": 18,
      "outputs": [
        {
          "output_type": "stream",
          "name": "stdout",
          "text": [
            "| | | | | | | | |  \n",
            "  | | | | | | |   \n",
            "    | | | | |    \n",
            "      | | |     \n",
            "        |      \n"
          ]
        }
      ]
    }
  ]
}