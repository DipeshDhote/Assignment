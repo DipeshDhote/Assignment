{
  "nbformat": 4,
  "nbformat_minor": 0,
  "metadata": {
    "colab": {
      "provenance": [],
      "authorship_tag": "ABX9TyNmzJE95xWMAh9cEXfj7FmA",
      "include_colab_link": true
    },
    "kernelspec": {
      "name": "python3",
      "display_name": "Python 3"
    },
    "language_info": {
      "name": "python"
    }
  },
  "cells": [
    {
      "cell_type": "markdown",
      "metadata": {
        "id": "view-in-github",
        "colab_type": "text"
      },
      "source": [
        "<a href=\"https://colab.research.google.com/github/DipeshDhote/Assignment/blob/main/Assignment_4.ipynb\" target=\"_parent\"><img src=\"https://colab.research.google.com/assets/colab-badge.svg\" alt=\"Open In Colab\"/></a>"
      ]
    },
    {
      "cell_type": "markdown",
      "source": [
        "**1.** What exactly is []?\n",
        "\n",
        "**Ans** - \"[]\" this is a empty list ."
      ],
      "metadata": {
        "id": "1PVR9lOSqIVj"
      }
    },
    {
      "cell_type": "markdown",
      "source": [
        "**2.** In a list of values stored in a variable called spam, how would you assign the value &#39;hello&#39; as the\n",
        "third value?"
      ],
      "metadata": {
        "id": "o5dtf2VAqcP3"
      }
    },
    {
      "cell_type": "code",
      "source": [
        "# Ans -\n",
        "spam = [2,4,6,8,10]\n",
        "spam.insert(2,'hello')\n",
        "spam"
      ],
      "metadata": {
        "id": "w61T9sIktOgJ"
      },
      "execution_count": null,
      "outputs": []
    },
    {
      "cell_type": "markdown",
      "source": [
        "Let's pretend the spam includes the list ['a', 'b', 'c', 'd'] for the next three queries.\n",
        "\n",
        "\n"
      ],
      "metadata": {
        "id": "JlqjiHvrc6A1"
      }
    },
    {
      "cell_type": "markdown",
      "source": [
        "  **3**. What is the value of spam[int(int(&#39;3&#39; * 2) / 11)]?\n",
        "  \n",
        " **Ans** - d"
      ],
      "metadata": {
        "id": "ZPpxExUsqcbB"
      }
    },
    {
      "cell_type": "code",
      "source": [
        "# Ans- d\n",
        " spam = ['a', 'b', 'c', 'd']\n",
        " spam[int(int('3'*2)/11)]"
      ],
      "metadata": {
        "id": "_iTOF9VAdmpi"
      },
      "execution_count": null,
      "outputs": []
    },
    {
      "cell_type": "markdown",
      "source": [
        "**4**. What is the value of spam[-1]?\n",
        "\n"
      ],
      "metadata": {
        "id": "KSRtKAHsqcd5"
      }
    },
    {
      "cell_type": "code",
      "source": [
        "# Ans - d\n",
        "spam[-1]"
      ],
      "metadata": {
        "colab": {
          "base_uri": "https://localhost:8080/",
          "height": 36
        },
        "id": "ms0BOIMPeYD7",
        "outputId": "aa009669-0ed3-4004-adae-29bf0c8540bc"
      },
      "execution_count": null,
      "outputs": [
        {
          "output_type": "execute_result",
          "data": {
            "text/plain": [
              "'d'"
            ],
            "application/vnd.google.colaboratory.intrinsic+json": {
              "type": "string"
            }
          },
          "metadata": {},
          "execution_count": 17
        }
      ]
    },
    {
      "cell_type": "markdown",
      "source": [
        "**5.** What is the value of spam[:2]?\n"
      ],
      "metadata": {
        "id": "Ss1fMUVUqcg5"
      }
    },
    {
      "cell_type": "code",
      "source": [
        "# Ans - ['a', 'b']\n",
        "spam[:2]"
      ],
      "metadata": {
        "colab": {
          "base_uri": "https://localhost:8080/"
        },
        "id": "qO5c3KLY3XbG",
        "outputId": "ae2def88-f23f-40ec-d2e3-bb1e5c6fcb83"
      },
      "execution_count": null,
      "outputs": [
        {
          "output_type": "execute_result",
          "data": {
            "text/plain": [
              "['a', 'b']"
            ]
          },
          "metadata": {},
          "execution_count": 21
        }
      ]
    },
    {
      "cell_type": "markdown",
      "source": [
        "Let's pretend bacon has the list [3.14, 'cat,' 11, 'cat,' True] for the next three questions."
      ],
      "metadata": {
        "id": "979lT471dByU"
      }
    },
    {
      "cell_type": "markdown",
      "source": [
        "**6.** What is the value of bacon.index(&#39;cat&#39;)?\n",
        "\n"
      ],
      "metadata": {
        "id": "J1_1EBisqckX"
      }
    },
    {
      "cell_type": "code",
      "source": [
        "# Ans - 1\n",
        "bacon = [3.14,'cat',11,'cat',True]\n",
        "bacon.index('cat')"
      ],
      "metadata": {
        "colab": {
          "base_uri": "https://localhost:8080/"
        },
        "id": "Q5o1s86I0BUN",
        "outputId": "3a229f9f-78c4-412b-948b-d6568bf1940c"
      },
      "execution_count": null,
      "outputs": [
        {
          "output_type": "execute_result",
          "data": {
            "text/plain": [
              "1"
            ]
          },
          "metadata": {},
          "execution_count": 20
        }
      ]
    },
    {
      "cell_type": "markdown",
      "source": [
        "**7.** How does bacon.append(99) change the look of the list value in bacon?"
      ],
      "metadata": {
        "id": "PuS-j6FXqctW"
      }
    },
    {
      "cell_type": "code",
      "source": [
        "# Ans -  [3.14, 'cat', 11, 'cat', True, 99]\n",
        "bacon = [3.14,'cat',11,'cat',True]\n",
        "bacon.append(99)\n",
        "bacon"
      ],
      "metadata": {
        "colab": {
          "base_uri": "https://localhost:8080/"
        },
        "id": "CdtaLUj_1eGo",
        "outputId": "75abb0ac-97d0-4193-8a0a-9128be8ff932"
      },
      "execution_count": null,
      "outputs": [
        {
          "output_type": "execute_result",
          "data": {
            "text/plain": [
              "[3.14, 'cat', 11, 'cat', True, 99]"
            ]
          },
          "metadata": {},
          "execution_count": 19
        }
      ]
    },
    {
      "cell_type": "markdown",
      "source": [
        "8. How does bacon.remove(&#39;cat&#39;) change the look of the list in bacon?"
      ],
      "metadata": {
        "id": "PU4Ft0flqcwK"
      }
    },
    {
      "cell_type": "code",
      "source": [
        "# Ans - [3.14, 11, 'cat', True]\n",
        "bacon = [3.14,'cat',11,'cat',True]\n",
        "bacon.remove('cat')\n",
        "bacon"
      ],
      "metadata": {
        "colab": {
          "base_uri": "https://localhost:8080/"
        },
        "id": "xEjAagqD2ok5",
        "outputId": "2c0f27ee-41e0-42eb-9b54-351d9255dcbd"
      },
      "execution_count": null,
      "outputs": [
        {
          "output_type": "execute_result",
          "data": {
            "text/plain": [
              "[3.14, 11, 'cat', True]"
            ]
          },
          "metadata": {},
          "execution_count": 22
        }
      ]
    },
    {
      "cell_type": "markdown",
      "source": [
        "**9.** What are the list concatenation and list replication operators?\n",
        "\n",
        "**Ans - Concatenation** - is done by \"+\" operator.it is used to concatenate two or more items. Concatenation is supported by sequence data types(string, list, tuple). Concatenation is done between the same data type .\n",
        "\n",
        "**Replication -**  is done by \"*\"operator.it is used to multiply items.replication is also supports sequence data types(string,list,tuple) and done by dame data type."
      ],
      "metadata": {
        "id": "i69BMl15qcz1"
      }
    },
    {
      "cell_type": "markdown",
      "source": [
        "**10.** What is difference between the list methods append() and insert()?\n",
        "**Ans** -\n",
        "\n",
        "**Apend** - append is used to add an item to the end of the list.\n",
        "\n",
        "**Insert** - Insert is used to add an item in a perticular index position."
      ],
      "metadata": {
        "id": "Yi6sr5PdqOn_"
      }
    },
    {
      "cell_type": "markdown",
      "source": [
        "**11.** What are the two methods for removing items from a list?\n",
        "\n"
      ],
      "metadata": {
        "id": "vmEeOK1ZAGiN"
      }
    },
    {
      "cell_type": "code",
      "source": [
        "# Ans - remove and pop\n",
        "list = [1,2,3,4,5]\n",
        "list.remove(2)\n",
        "list\n"
      ],
      "metadata": {
        "colab": {
          "base_uri": "https://localhost:8080/"
        },
        "id": "bICQ6IIzfRA4",
        "outputId": "e7d97be5-24c0-4941-ebbb-4e723eddd8f9"
      },
      "execution_count": null,
      "outputs": [
        {
          "output_type": "execute_result",
          "data": {
            "text/plain": [
              "[1, 3, 4, 5]"
            ]
          },
          "metadata": {},
          "execution_count": 28
        }
      ]
    },
    {
      "cell_type": "code",
      "source": [
        "# pop\n",
        "list = [1,2,3,4,5]\n",
        "list.pop()\n",
        "list"
      ],
      "metadata": {
        "colab": {
          "base_uri": "https://localhost:8080/"
        },
        "id": "S3FVP4h8gJD2",
        "outputId": "d619072b-5303-463b-cfeb-27b7999a3bea"
      },
      "execution_count": null,
      "outputs": [
        {
          "output_type": "execute_result",
          "data": {
            "text/plain": [
              "[1, 2, 3, 4]"
            ]
          },
          "metadata": {},
          "execution_count": 30
        }
      ]
    },
    {
      "cell_type": "markdown",
      "source": [
        "**12.** Describe how list values and string values are identical.\n",
        "\n",
        "**Ans** -\n",
        "\n",
        " 1. Lists are mutable but Strings are immutable.\n",
        "\n",
        " 2. Elements of a list can be of different types whereas a String only contains characters that are all of String type."
      ],
      "metadata": {
        "id": "eVZ7fXeaBAJk"
      }
    },
    {
      "cell_type": "markdown",
      "source": [
        "**13.** What&#39;s the difference between tuples and lists?\n",
        "\n",
        "**Ans -** The main defference between **list** and **tuple** is that **list** are mutable and **tuple** are imutable and list create by using square brackets\"[]\" and tuple are create by using Brackets \"()\"."
      ],
      "metadata": {
        "id": "PQ3CAKAvBVom"
      }
    },
    {
      "cell_type": "markdown",
      "source": [
        "**14.** How do you type a tuple value that only contains the integer 42?"
      ],
      "metadata": {
        "id": "yrx-fPMJa0gi"
      }
    },
    {
      "cell_type": "code",
      "source": [
        "tupl = (42,)\n",
        "type(tupl)\n",
        "tupl\n"
      ],
      "metadata": {
        "colab": {
          "base_uri": "https://localhost:8080/"
        },
        "id": "Adbs9nw9bNYm",
        "outputId": "8b645540-d73d-42d7-a3e4-a5fd4b04d2cb"
      },
      "execution_count": null,
      "outputs": [
        {
          "output_type": "execute_result",
          "data": {
            "text/plain": [
              "(42,)"
            ]
          },
          "metadata": {},
          "execution_count": 33
        }
      ]
    },
    {
      "cell_type": "markdown",
      "source": [
        "**15.** How do you get a list value&#39;s tuple form? How do you get a tuple value&#39;s list form?"
      ],
      "metadata": {
        "id": "csdSe8dcg8A5"
      }
    },
    {
      "cell_type": "code",
      "source": [
        "# Ans list into tuple\n",
        "l = [1,2,3,4,5,6]\n",
        "t = tuple(l)\n",
        "print(type(t))\n",
        "\n",
        "# tuple into list\n",
        "t = (1,2,3,4,5,6)\n",
        "l = list(t)\n",
        "print(type(l))\n"
      ],
      "metadata": {
        "colab": {
          "base_uri": "https://localhost:8080/"
        },
        "id": "mULW_8jThAQ8",
        "outputId": "32d9fc69-7536-4dbd-bbd6-6190075b3f50"
      },
      "execution_count": 18,
      "outputs": [
        {
          "output_type": "stream",
          "name": "stdout",
          "text": [
            "<class 'tuple'>\n",
            "<class 'list'>\n"
          ]
        }
      ]
    },
    {
      "cell_type": "markdown",
      "source": [
        "**16.** Variables that &quot;contain&quot; list values are not necessarily lists themselves. Instead, what do they\n",
        "contain?\n",
        "\n",
        "**Ans -** They contain references to list values."
      ],
      "metadata": {
        "id": "qzQaqFSLlaor"
      }
    },
    {
      "cell_type": "markdown",
      "source": [
        "**17.** How do you distinguish between copy.copy() and copy.deepcopy()?\n",
        "\n",
        "**Ans -**\n",
        "\n",
        "**copy** - copy.copy() fuction creates a shallow copy of the list.\n",
        "\n",
        "**deepcopy** - A deep copy creates a new compound object before inserting copies of the items found in the original into it in a recursive manner."
      ],
      "metadata": {
        "id": "bFBVPJHDnGJe"
      }
    }
  ]
}