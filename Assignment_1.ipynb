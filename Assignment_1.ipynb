{
  "nbformat": 4,
  "nbformat_minor": 0,
  "metadata": {
    "colab": {
      "provenance": [],
      "authorship_tag": "ABX9TyOh1EDg/fXNQcpKLlc150AC",
      "include_colab_link": true
    },
    "kernelspec": {
      "name": "python3",
      "display_name": "Python 3"
    },
    "language_info": {
      "name": "python"
    }
  },
  "cells": [
    {
      "cell_type": "markdown",
      "metadata": {
        "id": "view-in-github",
        "colab_type": "text"
      },
      "source": [
        "<a href=\"https://colab.research.google.com/github/DipeshDhote/Assignment/blob/main/Assignment_1.ipynb\" target=\"_parent\"><img src=\"https://colab.research.google.com/assets/colab-badge.svg\" alt=\"Open In Colab\"/></a>"
      ]
    },
    {
      "cell_type": "markdown",
      "source": [
        "**1.** In the below elements which of them are values or an expression? eg:- values can be\n",
        "integer or string and expressions will be mathematical operators.\n",
        "\n",
        "**Ans -**\n",
        "\n",
        "\" * \"  -  Expression\n",
        "\n",
        "\"Hello\" - Value\n",
        "\n",
        "\"87.8\" - Value\n",
        "\n",
        " \"-\" -  Expression\n",
        "\n",
        " \"/\" -  Expression\n",
        "\n",
        " \"+\" -  Expression\n",
        "\n",
        " \"6\" -  Value\n",
        "\n",
        "\n",
        "\n"
      ],
      "metadata": {
        "id": "45Yy0ANc0u8i"
      }
    },
    {
      "cell_type": "markdown",
      "source": [
        "**2.** What is the difference between string and variable?\n",
        "\n",
        "**Ans -**\n",
        "**String -** string is composed of a collection of characters .It can include letters , numbers and special characters. Strings can be created using single quotes or double quotes or even triple quotes.\n",
        "\n",
        "**Example -**  \n",
        "“python”,”@science”,”12345”.\n",
        "\n",
        "\n",
        "**Variable -** Variable is containers that store values. In a python variable name must start with a letter or a underscore character.\n",
        "\n",
        "**Example -**\n",
        "  Var = “India”\n",
        "_Var = 1234"
      ],
      "metadata": {
        "id": "3VqUzIAd0u_Y"
      }
    },
    {
      "cell_type": "markdown",
      "source": [
        "**3.** Describe three different data types.\n",
        "\n",
        "**Ans -**\n",
        "\n",
        "**List -** List is  one of the most flexible and powerful data type in python. list are mutable and homogeneous in nature .\n",
        "\n",
        "**Example -** list = [1,2,3,4,”data”]\n",
        "\n",
        "**Tuple -** A tuple is a collection of python objects separated by commas. Tuple are immutable and heterogeneous in  nature  .\n",
        "\n",
        "**Example -** tuple =(1,2,3,4,”data”)\n",
        "\n",
        "**Dictionary -** Dictionaries are used to store data values in key: value pairs.dictionaries are mutable and do not allow duplicates.\n",
        "\n",
        "**Example -** Dictionary ={“name”: “Rohit”,”Subject”: “Science”,”Marks”: 95}"
      ],
      "metadata": {
        "id": "3emfA2FC0vCx"
      }
    },
    {
      "cell_type": "markdown",
      "source": [
        "**4.** What is an expression made up of? What do all expressions do?\n",
        "\n",
        "**Ans -** An expression always evaluates to a single value which can be any data type like -\n",
        "Int ,float,string.\n",
        "\n"
      ],
      "metadata": {
        "id": "KA9K06Nd0vFj"
      }
    },
    {
      "cell_type": "markdown",
      "source": [
        "**5.** This assignment statements, like spam = 10. What is the difference between an\n",
        "expression and a statement?\n",
        "\n",
        "**Ans -** In a python there are two types of code constructs:statement and expression.\n",
        "\n",
        "**Statement -**   statement are instructions that perform some sort of action ,but do no produce any value. Statements are used to control the flow of program and carry out various tasks like defining variable.\n",
        "\n",
        "**Expression -** Expression are code constructs that evaluate to a value.it used to produce value.Expression is a set of variables,constants and arithmetic operator.\n"
      ],
      "metadata": {
        "id": "WDEpti7J0vJM"
      }
    },
    {
      "cell_type": "markdown",
      "source": [
        "**6.** After running the following code, what does the variable bacon contain?\n",
        "bacon = 22\n",
        "bacon + 1\n",
        "\n",
        " **Ans -** bacon = 23\n"
      ],
      "metadata": {
        "id": "CbKjHzLl0vMD"
      }
    },
    {
      "cell_type": "markdown",
      "source": [
        "**7.** What should the values of the following two terms be?\n",
        "\n",
        "‘Spam’ + ‘spamspam’\n",
        "\n",
        "‘Spam’* 3                    \n",
        "\n",
        "**Ans -** ‘spamspamspam’"
      ],
      "metadata": {
        "id": "JWTlX1p00vOZ"
      }
    },
    {
      "cell_type": "markdown",
      "source": [
        "**8.** Why is eggs a valid variable name while 100 is invalid?\n",
        "\n",
        "**Ans -** In python variable name must start with letter or  a underscore character therefore eggs is valid variable and 100 is invalid.\n"
      ],
      "metadata": {
        "id": "14oQPnIP0vRJ"
      }
    },
    {
      "cell_type": "markdown",
      "source": [
        "**9.** What three functions can be used to get the integer, floating-point number, or string\n",
        "version of a value?\n",
        "\n",
        "**Ans -** Int(), float(),str()  function can be used ."
      ],
      "metadata": {
        "id": "TSXe0yDl0vUY"
      }
    },
    {
      "cell_type": "markdown",
      "source": [
        "**10.** Why does this expression cause an error? How can you fix it?\n",
        "      ‘I have eaten’ + 99 +’burritos’\n",
        "\n",
        "**Ans -** This expression causing  error because we don’t concatenate strings with the integer value.\n",
        "We can fix this by writing 99 into the quotation mark “99”."
      ],
      "metadata": {
        "id": "JG7eIz790vXs"
      }
    }
  ]
}