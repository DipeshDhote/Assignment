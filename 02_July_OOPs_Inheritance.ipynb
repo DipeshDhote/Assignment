{
  "nbformat": 4,
  "nbformat_minor": 0,
  "metadata": {
    "colab": {
      "provenance": [],
      "authorship_tag": "ABX9TyOcKPhB7kr/edYPHIcIAEmT",
      "include_colab_link": true
    },
    "kernelspec": {
      "name": "python3",
      "display_name": "Python 3"
    },
    "language_info": {
      "name": "python"
    }
  },
  "cells": [
    {
      "cell_type": "markdown",
      "metadata": {
        "id": "view-in-github",
        "colab_type": "text"
      },
      "source": [
        "<a href=\"https://colab.research.google.com/github/DipeshDhote/Assignment/blob/main/02_July_OOPs_Inheritance.ipynb\" target=\"_parent\"><img src=\"https://colab.research.google.com/assets/colab-badge.svg\" alt=\"Open In Colab\"/></a>"
      ]
    },
    {
      "cell_type": "markdown",
      "source": [
        "**1.** Explain what inheritance is in object-oriented programming and why it is used.\n",
        "\n",
        "**Ans -** In object-oriented programming (OOP), inheritance is a mechanism that allows a class to inherit properties and behaviors from another class."
      ],
      "metadata": {
        "id": "1t0v5Ss-1zyt"
      }
    },
    {
      "cell_type": "markdown",
      "source": [
        "**2.** Discuss the concept of single inheritance and multiple inheritance, highlighting their\n",
        "differences and advantages.\n",
        "\n",
        "**Ans -**\n",
        "\n",
        "**Differences -**Single inheritance is one derived class having a single base class. On the contrary, multiple inheritance has two or more than two base classes, but single derived class.\n",
        "\n",
        "Single inheritance is more towards specialization. Conversely, multiple inheritance is more towards generalization.\n",
        "\n",
        "Due to less overhead in single inheritance it has less runtime than multiple inheritance.\n",
        "\n",
        "**Advantages -** Single inheritance enables a derived class to inherit properties from a single parent class, thus enabling code reusability and the addition of new features to existing code.on the other hand\n",
        "In multiple inheritances, all the features of the base classes are inherited into the derived class."
      ],
      "metadata": {
        "id": "p6uv2Mvi17HX"
      }
    },
    {
      "cell_type": "markdown",
      "source": [
        "**3.** Explain the terms \"base class\" and \"derived class\" in the context of inheritance.\n",
        "\n",
        "**Ans -** The class whose members are inherited is called the base class. The class that inherits the members of the base class is called the derived class."
      ],
      "metadata": {
        "id": "dGbhwvKS1_XT"
      }
    },
    {
      "cell_type": "markdown",
      "source": [
        "**4.** What is the significance of the \"protected\" access modifier in inheritance? How does\n",
        "it differ from \"private\" and \"public\" modifiers?\n",
        "\n",
        "**Ans -** Protected access modifiers allow the data members to be accessed by class, package, subclass , subclass. The difference between public and protected is that public can be accessed from outside class but protected cannot be accessed from outside class."
      ],
      "metadata": {
        "id": "CaIj5nVW2DEP"
      }
    },
    {
      "cell_type": "markdown",
      "source": [
        "**5.** What is the purpose of the \"super\" keyword in inheritance? Provide an example.\n",
        "\n",
        "**Ans -**We can use super keyword to access the data member or field of parent class. It is used if parent class and child class have same fields."
      ],
      "metadata": {
        "id": "wckhaP8K2IT_"
      }
    },
    {
      "cell_type": "code",
      "source": [
        "# Example\n",
        "class Emp():\n",
        "    def __init__(self, id, name):\n",
        "        self.id = id\n",
        "        self.name = name\n",
        "\n",
        "\n",
        "# Class freelancer inherits EMP\n",
        "class Freelance(Emp):\n",
        "    def __init__(self, id, name, Emails):\n",
        "        super().__init__(id, name)\n",
        "        self.Emails = Emails\n",
        "\n",
        "Emp_1 = Freelance(100, \"raghav gupta\" , \"dd@gmail.com\")\n",
        "print('The ID ,name and email is:', Emp_1.id,Emp_1.name,Emp_1.Emails)"
      ],
      "metadata": {
        "colab": {
          "base_uri": "https://localhost:8080/"
        },
        "id": "t9oCgon66Qu0",
        "outputId": "e4e58b46-9a24-4ff0-ac21-fa2b70a16ea6"
      },
      "execution_count": 119,
      "outputs": [
        {
          "output_type": "stream",
          "name": "stdout",
          "text": [
            "The ID ,name and email is: 100 raghav gupta dd@gmail.com\n"
          ]
        }
      ]
    },
    {
      "cell_type": "markdown",
      "source": [
        "**6.** Create a base class called \"Vehicle\" with attributes like \"make\", \"model\", and \"year\".\n",
        "Then, create a derived class called \"Car\" that inherits from \"Vehicle\" and adds an\n",
        "attribute called \"fuel_type\". Implement appropriate methods in both classes."
      ],
      "metadata": {
        "id": "d4YCncTc2NCb"
      }
    },
    {
      "cell_type": "code",
      "source": [
        "# Vehicle Class\n",
        "class Vehicle:\n",
        "  def __init__(self,make,model,year):\n",
        "    self.make = make\n",
        "    self.model=model\n",
        "    self.year = year\n",
        "\n",
        "  def display_info(self):\n",
        "    print(f\" Name of car is : {self.model} \\n Company name : {self.make} \\n Year of manufacturing : {self.year}\" )\n",
        "\n",
        "\n",
        "\n",
        "class Car(Vehicle):\n",
        "  def __init__(self,make,model,year,fuel_type):\n",
        "    super().__init__(make,model,year)\n",
        "    self.fuel_type = fuel_type\n",
        "\n",
        "  def display_info(self):\n",
        "    print(f\" Name of car is : {self.model} \\n Company name : {self.make} \\n Year of manufacturing : {self.year} \\n Type of fuel is : {self.fuel_type}\")"
      ],
      "metadata": {
        "id": "9XSHsbq41XCt"
      },
      "execution_count": null,
      "outputs": []
    },
    {
      "cell_type": "code",
      "source": [
        "asd = Car(\"Maruti Suzuki\",\"swift\",\"2023\",\"petrol\")\n",
        "asd.display_info()"
      ],
      "metadata": {
        "colab": {
          "base_uri": "https://localhost:8080/"
        },
        "id": "d4-ppgta2fCg",
        "outputId": "37f031c2-654e-4a0d-97a9-a15aa300cc49"
      },
      "execution_count": null,
      "outputs": [
        {
          "output_type": "stream",
          "name": "stdout",
          "text": [
            " Name of car is : swift \n",
            " Company name : Maruti Suzuki \n",
            " Year of manufacturing : 2023 \n",
            " Type of fuel is : petrol\n"
          ]
        }
      ]
    },
    {
      "cell_type": "markdown",
      "source": [
        "**7.** Create a base class called \"Employee\" with attributes like \"name\" and \"salary.\"\n",
        "Derive two classes, \"Manager\" and \"Developer,\" from \"Employee.\" Add an additional\n",
        "attribute called \"department\" for the \"Manager\" class and \"programming_language\"\n",
        "for the \"Developer\" class."
      ],
      "metadata": {
        "id": "hKc8_ad-2TMk"
      }
    },
    {
      "cell_type": "code",
      "source": [
        "# Employee Class\n",
        "class Employee:\n",
        "  def __init__(self,name,salary):\n",
        "    self.name = name\n",
        "    self.salary =salary\n",
        "\n",
        "\n",
        "  def display_info(self):\n",
        "    print(f\" Name of Employee is : {self.name} \\n Employee salary : {self.salary} \" )\n",
        "\n",
        "\n",
        "class Manager(Employee):\n",
        "  def __init__(self,name,salary,department):\n",
        "    super().__init__(name,salary)\n",
        "    self.department = department\n",
        "\n",
        "  def display_info(self):\n",
        "    print(f\" Name of Employee is : {self.name} \\n Employee salary : {self.salary} \\n Employee depertment  : {self.department} \" )\n",
        "\n",
        "\n",
        "class Developer(Employee):\n",
        "    def __init__ (self,name,salary,programming_language):\n",
        "      super().__init__(name,salary)\n",
        "      self.pragramming_language = programming_language\n",
        "\n",
        "    def display_info(self):\n",
        "      print(f\" Name of Employee is : {self.name} \\n Employee salary : {self.salary}\\n Programming language known is : {self.pragramming_language} \" )"
      ],
      "metadata": {
        "id": "jozim6Ju7toG"
      },
      "execution_count": null,
      "outputs": []
    },
    {
      "cell_type": "code",
      "source": [
        "a = Employee(\"Raghav\",\"50000\")\n",
        "a.display_info()"
      ],
      "metadata": {
        "colab": {
          "base_uri": "https://localhost:8080/"
        },
        "id": "RI5zZCUw93Vk",
        "outputId": "da71e054-9a1f-45d5-a89a-227ea4cbe74f"
      },
      "execution_count": null,
      "outputs": [
        {
          "output_type": "stream",
          "name": "stdout",
          "text": [
            " Name of Employee is : Raghav \n",
            " Employee salary : 50000 \n"
          ]
        }
      ]
    },
    {
      "cell_type": "code",
      "source": [
        "b = Manager(\"Tanmay\",\"50000\",\"Finance\")\n",
        "b.display_info()"
      ],
      "metadata": {
        "colab": {
          "base_uri": "https://localhost:8080/"
        },
        "id": "CiZd_HZUAicL",
        "outputId": "fa6e78c3-6675-4c26-ac66-ff108ff50134"
      },
      "execution_count": null,
      "outputs": [
        {
          "output_type": "stream",
          "name": "stdout",
          "text": [
            " Name of Employee is : Tanmay \n",
            " Employee salary : 50000 \n",
            " Employee depertment  : Finance \n"
          ]
        }
      ]
    },
    {
      "cell_type": "code",
      "source": [
        "d = Developer(\"Vipin\",\"25000\",\"Java\")\n",
        "d.display_info()"
      ],
      "metadata": {
        "colab": {
          "base_uri": "https://localhost:8080/"
        },
        "id": "J8z9QKXWAima",
        "outputId": "a6cfb501-ac45-42bf-cbda-fc34dec6d3be"
      },
      "execution_count": null,
      "outputs": [
        {
          "output_type": "stream",
          "name": "stdout",
          "text": [
            " Name of Employee is : Vipin \n",
            " Employee salary : 25000\n",
            " Programming language known is : Java \n"
          ]
        }
      ]
    },
    {
      "cell_type": "markdown",
      "source": [
        "**8.** Design a base class called \"Shape\" with attributes like \"colour\" and \"border_width.\"\n",
        "Create derived classes, \"Rectangle\" and \"Circle,\" that inherit from \"Shape\" and add\n",
        "specific attributes like \"length\" and \"width\" for the \"Rectangle\" class and \"radius\" for\n",
        "the \"Circle\" class."
      ],
      "metadata": {
        "id": "OaslBS2V2YbV"
      }
    },
    {
      "cell_type": "code",
      "source": [
        "# Shape Class\n",
        "class Shape:\n",
        "  def __init__(self,color,border_width):\n",
        "    self.color = color\n",
        "    self.border_width = border_width\n",
        "\n",
        "  def display_info(self):\n",
        "    print(f\" shape color : {self.color} \\n Shape  Border Width  : {self.border_width}\")\n",
        "\n",
        "\n",
        "class Rectangle(Shape):\n",
        "  def __init__(self,color,border_width,length,width):\n",
        "    super().__init__(color,border_width)\n",
        "    self.length = length\n",
        "    self.width  = width\n",
        "\n",
        "  def display_info(self):\n",
        "    print(f\" Color of rectangle is : {self.color} \\n Border Width of rectange is : {self.border_width} \\n Length of rectangle is  : {self.length} \\n Width of rectangle is : {self.width} \" )\n",
        "\n",
        "\n",
        "class Circle(Shape):\n",
        "    def __init__ (self,color,border_width,radius):\n",
        "      super().__init__(color,border_width)\n",
        "      self.radius = radius\n",
        "\n",
        "    def display_info(self):\n",
        "      print(f\" Color of circle : {self.color} \\n Border width of circle : {self.border_width}\\n Radius of circle  : {self.radius} \" )"
      ],
      "metadata": {
        "id": "fuUd8lNADZV2"
      },
      "execution_count": null,
      "outputs": []
    },
    {
      "cell_type": "code",
      "source": [
        "f = Shape(\"Red\",\"10\")\n",
        "f.display_info()"
      ],
      "metadata": {
        "colab": {
          "base_uri": "https://localhost:8080/"
        },
        "id": "AtRTSZa3HZVs",
        "outputId": "7bdf6220-0261-488c-e6d5-37afadb3326c"
      },
      "execution_count": null,
      "outputs": [
        {
          "output_type": "stream",
          "name": "stdout",
          "text": [
            " shape color : Red \n",
            " Shape  Border Width  : 10\n"
          ]
        }
      ]
    },
    {
      "cell_type": "code",
      "source": [
        "g = Rectangle(\"Blue\",\"10\",\"20\",\"30\")\n",
        "g.display_info()"
      ],
      "metadata": {
        "colab": {
          "base_uri": "https://localhost:8080/"
        },
        "id": "E6nBMTDjHZhE",
        "outputId": "ba32921e-1c6a-4ed4-bfe3-4a9bb6c819d6"
      },
      "execution_count": null,
      "outputs": [
        {
          "output_type": "stream",
          "name": "stdout",
          "text": [
            " Color of rectangle is : Blue \n",
            " Border Width of rectange is : 10 \n",
            " Length of rectangle is  : 20 \n",
            " Width of rectangle is : 30 \n"
          ]
        }
      ]
    },
    {
      "cell_type": "code",
      "source": [
        "h = Circle(\"Green\",\"12\",\"15\")\n",
        "h.display_info()"
      ],
      "metadata": {
        "colab": {
          "base_uri": "https://localhost:8080/"
        },
        "id": "sODQsoFkHZrR",
        "outputId": "14ba1ad2-9745-4f3e-af2c-fb31d8f1c425"
      },
      "execution_count": null,
      "outputs": [
        {
          "output_type": "stream",
          "name": "stdout",
          "text": [
            " Color of circle : Green \n",
            " Border width of circle : 12\n",
            " Radius of circle  : 15 \n"
          ]
        }
      ]
    },
    {
      "cell_type": "markdown",
      "source": [
        "**9.** Create a base class called \"Device\" with attributes like \"brand\" and \"model.\" Derive\n",
        "two classes, \"Phone\" and \"Tablet,\" from \"Device.\" Add specific attributes like\n",
        "\"screen_size\" for the \"Phone\" class and \"battery_capacity\" for the \"Tablet\" class."
      ],
      "metadata": {
        "id": "q_dTy1cq2drf"
      }
    },
    {
      "cell_type": "code",
      "source": [
        "class Divice:\n",
        "  def __init__(self,brand,model):\n",
        "    self.brand = brand\n",
        "    self.model = model\n",
        "\n",
        "\n",
        "class Phone(Divice):\n",
        "  def __init__(self,brand,model,screen_size):\n",
        "    super().__init__(brand,model)\n",
        "    self.screen_size = screen_size\n",
        "\n",
        "\n",
        "  def display_info(self):\n",
        "    print(f\" Name of the phone : {self.model} \\n Brand of phone : {self.brand} \\n Screen size  of phone  : {self.screen_size} \" )\n",
        "\n",
        "\n",
        "class Tablet(Divice):\n",
        "    def __init__ (self,brand,model,battery_capacity):\n",
        "      super().__init__(brand,model)\n",
        "      self.battery_capacity = battery_capacity\n",
        "\n",
        "    def display_info(self):\n",
        "      print(f\" Tablet model : {self.model} \\n Tablet brand : {self.brand}\\n Tablet battery capacity  : {self.battery_capacity} \" )"
      ],
      "metadata": {
        "id": "ZMC4vWIjJcrC"
      },
      "execution_count": null,
      "outputs": []
    },
    {
      "cell_type": "code",
      "source": [
        "j = Phone(\"Apple\",\"Iphone-14pro\",\"6.7 inch\")\n",
        "j.display_info()"
      ],
      "metadata": {
        "colab": {
          "base_uri": "https://localhost:8080/"
        },
        "id": "ET-UxRUkPKOt",
        "outputId": "2a00d563-b011-4aa6-cad9-b033ff6752aa"
      },
      "execution_count": null,
      "outputs": [
        {
          "output_type": "stream",
          "name": "stdout",
          "text": [
            " Name of the phone : Iphone-14pro \n",
            " Brand of phone : Apple \n",
            " Screen size  of phone  : 6.7 inch \n"
          ]
        }
      ]
    },
    {
      "cell_type": "code",
      "source": [
        "k = Tablet(\"Xiaomi\",\"Xiaomi pad-6\",\"8840mAh\")\n",
        "k.display_info()"
      ],
      "metadata": {
        "colab": {
          "base_uri": "https://localhost:8080/"
        },
        "id": "rtUf8HFgPKye",
        "outputId": "4e48c0d3-b09f-436a-af85-022e2c60aa11"
      },
      "execution_count": null,
      "outputs": [
        {
          "output_type": "stream",
          "name": "stdout",
          "text": [
            " Tablet model : Xiaomi pad-6 \n",
            " Tablet brand : Xiaomi\n",
            " Tablet battery capacity  : 8840mAh \n"
          ]
        }
      ]
    },
    {
      "cell_type": "markdown",
      "source": [
        "**10.** Create a base class called \"BankAccount\" with attributes like \"account_number\" and\n",
        "\"balance.\" Derive two classes, \"SavingsAccount\" and \"CheckingAccount,\" from\n",
        "\"BankAccount.\" Add specific methods like \"calculate_interest\" for the\n",
        "\"SavingsAccount\" class and \"deduct_fees\" for the \"CheckingAccount\" class."
      ],
      "metadata": {
        "id": "v8-uf3BO2j_T"
      }
    },
    {
      "cell_type": "code",
      "source": [
        "# Class BankAccount\n",
        "class BankAccount:\n",
        "  def __init__(self,account_number,balance=0):\n",
        "    self.account_number = account_number\n",
        "    self.balance = balance\n",
        "\n",
        "  def display_info(self):\n",
        "    print(f\" shape color : {self.color} \\n Shape  Border Width  : {self.border_width}\")\n",
        "\n",
        "\n",
        "class SavingAccount(BankAccount):\n",
        "  def __init__(self,account_number,balance):\n",
        "    super().__init__(account_number,balance)\n",
        "\n",
        "\n",
        "\n",
        "  def calculate_interest(self):\n",
        "    total_balance = int(self.balance)\n",
        "    total_interest = total_balance/100*5\n",
        "    self.balance = total_balance+total_interest\n",
        "\n",
        "\n",
        "    print(f\" Your total  interest : {total_interest} Rs \\n Your total balance after interest : {self.balance} Rs\" )\n",
        "\n",
        "\n",
        "class CheckingAccount(BankAccount):\n",
        "    def __init__ (self,account_number,balance=0):\n",
        "      super().__init__(account_number,balance)\n",
        "\n",
        "    def deduct_fee(self):\n",
        "      total_balance = int(self.balance)\n",
        "      total_deduct = total_balance/100*2\n",
        "      self.balance = total_balance - total_deduct\n",
        "\n",
        "      print(f\" Your total  deduct_fee : {total_deduct} Rs \\n Your total balance after deduct fee : {self.balance} Rs\")"
      ],
      "metadata": {
        "id": "ZRQkSldyLvNo"
      },
      "execution_count": 116,
      "outputs": []
    },
    {
      "cell_type": "code",
      "source": [
        "b = SavingAccount(\"131242455\",\"15000\")\n",
        "b.calculate_interest()"
      ],
      "metadata": {
        "colab": {
          "base_uri": "https://localhost:8080/"
        },
        "id": "CBmo5IjBT7qc",
        "outputId": "f2083d0c-5b5a-42c6-c31b-b4ac769d3480"
      },
      "execution_count": 117,
      "outputs": [
        {
          "output_type": "stream",
          "name": "stdout",
          "text": [
            " Your total  interest : 750.0 Rs \n",
            " Your total balance after interest : 15750.0 Rs\n"
          ]
        }
      ]
    },
    {
      "cell_type": "code",
      "source": [
        "b = CheckingAccount(\"13124775\",\"13000\")\n",
        "b.deduct_fee()"
      ],
      "metadata": {
        "colab": {
          "base_uri": "https://localhost:8080/"
        },
        "id": "2Rpt9M5KodgJ",
        "outputId": "2474ddce-4dfa-4878-a721-0dd0cbd40a1b"
      },
      "execution_count": 118,
      "outputs": [
        {
          "output_type": "stream",
          "name": "stdout",
          "text": [
            " Your total  deduct_fee : 260.0 Rs \n",
            " Your total balance after deduct fee : 12740.0 Rs\n"
          ]
        }
      ]
    }
  ]
}