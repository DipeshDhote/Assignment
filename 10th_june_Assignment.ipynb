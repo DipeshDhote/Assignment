{
  "nbformat": 4,
  "nbformat_minor": 0,
  "metadata": {
    "colab": {
      "provenance": [],
      "authorship_tag": "ABX9TyNPLlOBeDj/gYHAOLEuAdze",
      "include_colab_link": true
    },
    "kernelspec": {
      "name": "python3",
      "display_name": "Python 3"
    },
    "language_info": {
      "name": "python"
    }
  },
  "cells": [
    {
      "cell_type": "markdown",
      "metadata": {
        "id": "view-in-github",
        "colab_type": "text"
      },
      "source": [
        "<a href=\"https://colab.research.google.com/github/DipeshDhote/Assignment/blob/main/10th_june_Assignment.ipynb\" target=\"_parent\"><img src=\"https://colab.research.google.com/assets/colab-badge.svg\" alt=\"Open In Colab\"/></a>"
      ]
    },
    {
      "cell_type": "markdown",
      "source": [
        "**1.** In Python, what is the difference between a built-in function and a user-defined function? Provide an\n",
        "example of each.\n",
        "\n",
        "**Ans -**\n",
        "\n",
        "**Built-in Functions -** Functions that readily come with Python are called built-in functions.\n",
        "\n",
        "**User-defined Functions -** Functions that we define ourselves to do certain specific task are referred as user-defined functions.User-defined functions help to decompose a large program into small segments which makes program easy to understand, maintain and debug.\n"
      ],
      "metadata": {
        "id": "JT2SDD12SKto"
      }
    },
    {
      "cell_type": "code",
      "source": [
        "# Example\n",
        "# Built-in Functions Print\n",
        "s =\"iNeuron\"\n",
        "print(s)\n",
        "\n",
        "#User-defined Function\n",
        "def add_numbers(a,b):\n",
        "   sum = a+ b\n",
        "   return sum\n",
        "\n",
        "add_numbers(2,3)\n"
      ],
      "metadata": {
        "colab": {
          "base_uri": "https://localhost:8080/"
        },
        "id": "_V0DG7vYSgHC",
        "outputId": "f6ecae08-9a5b-4254-9cbc-922f2744f973"
      },
      "execution_count": null,
      "outputs": [
        {
          "output_type": "stream",
          "name": "stdout",
          "text": [
            "iNeuron\n"
          ]
        },
        {
          "output_type": "execute_result",
          "data": {
            "text/plain": [
              "5"
            ]
          },
          "metadata": {},
          "execution_count": 4
        }
      ]
    },
    {
      "cell_type": "markdown",
      "source": [
        "**2.** How can you pass arguments to a function in Python? Explain the difference between positional\n",
        "arguments and keyword arguments.\n",
        "\n",
        "**Ans -** Arguments are specified after the function name, inside the parentheses.  \n",
        "\n",
        " **Positional Arguments -** A positional argument is a name that is not followed by an equal sign (=) and default value.\n",
        "\n",
        " **Keyword Arguments -** A keyword argument is followed by an equal sign and an expression that gives its default value."
      ],
      "metadata": {
        "id": "DpLaCTtNSKxg"
      }
    },
    {
      "cell_type": "markdown",
      "source": [
        "**3.** What is the purpose of the return statement in a function? Can a function have multiple return\n",
        "statements? Explain with an example.\n",
        "\n",
        "**Ans -** The return statement causes the function to stop executing and to return the value of its expression (if any) to the caller.A function can have multiple returns statement , the one that satisfies the condition will be executed first and the function will exit."
      ],
      "metadata": {
        "id": "9mtcgQJ0RC3u"
      }
    },
    {
      "cell_type": "code",
      "source": [
        "#Example\n",
        "def type_of_int(i):\n",
        "    if i % 2 == 0:\n",
        "        return 'even'\n",
        "    else:\n",
        "        return 'odd'\n",
        "\n",
        "res =type_of_int(3)\n",
        "\n",
        "print(res)"
      ],
      "metadata": {
        "colab": {
          "base_uri": "https://localhost:8080/"
        },
        "id": "kFv36rhYSGZX",
        "outputId": "cc1e9242-a057-4382-e320-dcb60bb33a7b"
      },
      "execution_count": null,
      "outputs": [
        {
          "output_type": "stream",
          "name": "stdout",
          "text": [
            "odd\n"
          ]
        }
      ]
    },
    {
      "cell_type": "markdown",
      "source": [
        "**4.** What are lambda functions in Python? How are they different from regular functions? Provide an\n",
        "example where a lambda function can be useful.\n",
        "\n",
        "**Ans -** A Lambda Function in Python programming is an anonymous function or a function having no name. It is a small and restricted function having no more than one line.\n",
        "\n",
        "The primary difference between a lambda and a regular function is that the lambda function evaluates only a single expression and yields a function object.\n",
        "\n",
        "Lambda functions are efficient whenever you want to create a function that will only contain simple expressions – that is, expressions that are usually a single line of a statement."
      ],
      "metadata": {
        "id": "6Lw22iP2RC6_"
      }
    },
    {
      "cell_type": "code",
      "source": [
        "# Example regular fuction\n",
        "def f(x):\n",
        "  return x * 2\n",
        "\n",
        "f(3)\n",
        "\n",
        "#Lambda Fuction\n",
        "a =lambda x: x * 2\n",
        "print(a(3))\n"
      ],
      "metadata": {
        "colab": {
          "base_uri": "https://localhost:8080/"
        },
        "id": "GO4SzrPLRyCQ",
        "outputId": "a6d2ea24-c0c4-4876-96a6-eb5983214047"
      },
      "execution_count": null,
      "outputs": [
        {
          "output_type": "stream",
          "name": "stdout",
          "text": [
            "6\n"
          ]
        }
      ]
    },
    {
      "cell_type": "markdown",
      "source": [
        "**5.** How does the concept of \"scope\" apply to functions in Python? Explain the difference between local\n",
        "scope and global scope.\n",
        "\n",
        "**Ans -** A variable is only available from inside the region it is created. This is called **scope**.\n",
        "\n",
        "**Local Scope -**A variable created inside a function belongs to the local scope of that function, and can only be used inside that function.\n",
        "\n",
        "**Global Scope -**A variable created in the main body of the Python code is a global variable and belongs to the global scope."
      ],
      "metadata": {
        "id": "qnzyZgJPRC9q"
      }
    },
    {
      "cell_type": "markdown",
      "source": [
        "**6.** How can you use the \"return\" statement in a Python function to return multiple values?\n",
        "\n",
        "**Ans -** In Python, you can return multiple values by simply separating them with commas in the return statement."
      ],
      "metadata": {
        "id": "P-NqsLIxRDAW"
      }
    },
    {
      "cell_type": "markdown",
      "source": [
        "**7.** What is the difference between the \"pass by value\" and \"pass by reference\" concepts when it\n",
        "comes to function arguments in Python?\n",
        "\n",
        "**Ans -**The main difference between pass by value and pass by reference is that, in a pass by value, the parameter value copies to another variable while, in a pass by reference, the actual parameter passes to the function."
      ],
      "metadata": {
        "id": "3APPv-5WRDFs"
      }
    },
    {
      "cell_type": "markdown",
      "source": [
        "**8.** Create a function that can intake integer or decimal value and do following operations:\n",
        "\n",
        "a. Logarithmic function (log x)\n",
        "\n",
        "b. Exponential function (exp(x))\n",
        "\n",
        "c. Power function with base 2 (2x)\n",
        "\n",
        "d. Square root"
      ],
      "metadata": {
        "id": "S44QyHJwRDKH"
      }
    },
    {
      "cell_type": "code",
      "source": [
        "import math\n",
        "def Enter_int(x):\n",
        "\n",
        "   lo =math.log(x)\n",
        "   print(\"Logarrithmic  of the number :\",lo)\n",
        "\n",
        "   ex =math.exp(x)\n",
        "   print(\"Exponential  of the number :\",ex)\n",
        "\n",
        "   power = x**2\n",
        "   print(\"square of the number :\",power)\n",
        "\n",
        "   sq = math.sqrt(x)\n",
        "   print(\"square root of the number :\",sq)\n",
        "\n",
        "Enter_int(16)"
      ],
      "metadata": {
        "colab": {
          "base_uri": "https://localhost:8080/"
        },
        "id": "2ISJZHX8Rbk0",
        "outputId": "fa5c0a22-602e-464a-a637-26e8729da8b3"
      },
      "execution_count": null,
      "outputs": [
        {
          "output_type": "stream",
          "name": "stdout",
          "text": [
            "Logarrithmic  of the number : 2.772588722239781\n",
            "Exponential  of the number : 8886110.520507872\n",
            "square of the number : 256\n",
            "square root of the number : 4.0\n"
          ]
        }
      ]
    },
    {
      "cell_type": "markdown",
      "source": [
        "**9.** Create a function that takes a full name as an argument and returns first name and last name."
      ],
      "metadata": {
        "id": "A5J7Yf2TRDMT"
      }
    },
    {
      "cell_type": "code",
      "source": [
        "# Ans  this fuction takes full name as a argument and return first and last name\n",
        "def Full_name(f_name):\n",
        "  a  = f_name\n",
        "  b = a.index(\" \")\n",
        "  print(\" First Name :\",a[0:b],\"\\n\",\"Last Name :\",a[b:])\n"
      ],
      "metadata": {
        "id": "S3fsbPU9RJoY"
      },
      "execution_count": null,
      "outputs": []
    },
    {
      "cell_type": "code",
      "source": [
        "Full_name(\"Dipesh Dhote\")"
      ],
      "metadata": {
        "colab": {
          "base_uri": "https://localhost:8080/"
        },
        "id": "h5TzkRgERLFl",
        "outputId": "3c9d934f-4ac1-4ffc-aa5b-052e255e4091"
      },
      "execution_count": null,
      "outputs": [
        {
          "output_type": "stream",
          "name": "stdout",
          "text": [
            " First Name : Dipesh \n",
            " Last Name :  Dhote\n"
          ]
        }
      ]
    }
  ]
}