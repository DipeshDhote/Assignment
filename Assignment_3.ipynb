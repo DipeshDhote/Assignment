{
  "nbformat": 4,
  "nbformat_minor": 0,
  "metadata": {
    "colab": {
      "provenance": [],
      "authorship_tag": "ABX9TyMb6m5F2AGpl/Qm/Xf3A4mV",
      "include_colab_link": true
    },
    "kernelspec": {
      "name": "python3",
      "display_name": "Python 3"
    },
    "language_info": {
      "name": "python"
    }
  },
  "cells": [
    {
      "cell_type": "markdown",
      "metadata": {
        "id": "view-in-github",
        "colab_type": "text"
      },
      "source": [
        "<a href=\"https://colab.research.google.com/github/DipeshDhote/Assignment/blob/main/Assignment_3.ipynb\" target=\"_parent\"><img src=\"https://colab.research.google.com/assets/colab-badge.svg\" alt=\"Open In Colab\"/></a>"
      ]
    },
    {
      "cell_type": "markdown",
      "source": [
        "**1.**Why are functions advantageous to have in your programs?\n",
        "\n",
        "**Ans -** Functions reduce the need for duplicate code. This makes programs shorter, easier to read, and\n",
        "easier to update."
      ],
      "metadata": {
        "id": "fZoaDKmGZk1Y"
      }
    },
    {
      "cell_type": "markdown",
      "source": [
        "**2.** When does the code in a function run: when it's specified or when it's called?\n",
        "\n",
        "**Ans-**The code in a function run when it’s called."
      ],
      "metadata": {
        "id": "SLG_XheVZnH2"
      }
    },
    {
      "cell_type": "markdown",
      "source": [
        "**3.** What statement creates a function?\n",
        "\n",
        "**Ans-** in python you defined a function with the def key word.\n",
        "\n"
      ],
      "metadata": {
        "id": "VDbsZ1c7ZnOU"
      }
    },
    {
      "cell_type": "code",
      "source": [
        "# Example\n",
        "def fuction name ():"
      ],
      "metadata": {
        "id": "AVlt78x7czOf"
      },
      "execution_count": null,
      "outputs": []
    },
    {
      "cell_type": "markdown",
      "source": [
        "**4.** What is the difference between a function and a function call?\n",
        "\n",
        "**Ans -** A function is a piece of code which enhanced the reusability and modularity of your program.\n",
        "On the other hand A function call means calling that function."
      ],
      "metadata": {
        "id": "Nd8dnP4RZnRl"
      }
    },
    {
      "cell_type": "markdown",
      "source": [
        "**5.** How many global scopes are there in a Python program? How many local scopes?\n",
        "\n",
        "**Ans -** There's only one global Python scope per program execution. This scope remains in existence\n",
        "until the program terminates and all its names are forgotten. The local scope exists till the time the\n",
        "function has been executed."
      ],
      "metadata": {
        "id": "bJXhb_SzZneE"
      }
    },
    {
      "cell_type": "markdown",
      "source": [
        "**6.** What happens to variables in a local scope when the function call returns?\n",
        "\n",
        "**Ans -** When the execution of the function returns, the local variables are destroyed."
      ],
      "metadata": {
        "id": "gqTArV_KZnhF"
      }
    },
    {
      "cell_type": "markdown",
      "source": [
        "**7.** What is the concept of a return value? Is it possible to have a return value in an expression?\n",
        "\n",
        "**Ans -** The Python return statement is a key component of functions and methods. You can use the\n",
        "return statement to make your functions send Python objects back to the caller code. These objects\n",
        "are known as the function’s return value. You can use them to perform further computation in your\n",
        "programs. a return value can be used as part of an expression.\n"
      ],
      "metadata": {
        "id": "9KHqbIiOZnkE"
      }
    },
    {
      "cell_type": "markdown",
      "source": [
        "**8.** If a function does not have a return statement, what is the return value of a call to that function?\n",
        "\n",
        "**Ans -** if there is no return statement for a function, its return value is None."
      ],
      "metadata": {
        "id": "rM0QP9JcZnm_"
      }
    },
    {
      "cell_type": "markdown",
      "source": [
        "**9.** How do you make a function variable refer to the global variable?\n",
        "\n",
        "**Ans -** To create a global variable inside a function, you can use the global keyword.\n"
      ],
      "metadata": {
        "id": "2nRL_V8bZnqe"
      }
    },
    {
      "cell_type": "markdown",
      "source": [
        "**10.** What is the data type of None?\n",
        "\n",
        "**Ans -**The data type of None is NoneType."
      ],
      "metadata": {
        "id": "c9jx_MpYZn36"
      }
    },
    {
      "cell_type": "markdown",
      "source": [
        "**11.** What does the sentence import areallyourpetsnamederic do?\n",
        "\n",
        "**Ans -** That import statement imports a module named areallyourpetsnamederic.\n"
      ],
      "metadata": {
        "id": "8hsbp9h5bLXg"
      }
    },
    {
      "cell_type": "markdown",
      "source": [
        "**12.** If you had a bacon() feature in a spam module, what would you call it after importing spam?\n",
        "\n",
        "**Ans -** This function can be called with spam.bacon()."
      ],
      "metadata": {
        "id": "sfBcFwFSbLdv"
      }
    },
    {
      "cell_type": "markdown",
      "source": [
        "**13.** What can you do to save a programme from crashing if it encounters an error?\n",
        "\n",
        "**Ans -** In Python, we use the try and except statements to handle exceptions. Whenever the code\n",
        "breaks down, an exception is thrown without crashing the program.\n"
      ],
      "metadata": {
        "id": "8bRTrVdhbLhX"
      }
    },
    {
      "cell_type": "markdown",
      "source": [
        "**14.** What is the purpose of the try clause? What is the purpose of the except clause?\n",
        "\n",
        "**Ans –** Try clause -The try clause is used to check some code for errors i.e the code inside the try\n",
        "block will execute when there is no error in the program.\n",
        "Except clause - The code inside the except clause will execute whenever the program encounters\n",
        "some error in the preceding try clause."
      ],
      "metadata": {
        "id": "e6wIXATNbdwS"
      }
    }
  ]
}